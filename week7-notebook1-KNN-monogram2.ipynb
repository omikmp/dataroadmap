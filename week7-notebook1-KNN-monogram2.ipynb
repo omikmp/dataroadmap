{
 "cells": [
  {
   "cell_type": "markdown",
   "metadata": {},
   "source": [
    "# Monogram2-week7-notebook1\n",
    "\n",
    "# K Nearest Neighbor\n",
    "\n",
    "\n",
    "## Import Libraries\n",
    "Let's import some libraries to get started!"
   ]
  },
  {
   "cell_type": "code",
   "execution_count": 1,
   "metadata": {},
   "outputs": [],
   "source": [
    "import pandas as pd"
   ]
  },
  {
   "cell_type": "markdown",
   "metadata": {},
   "source": [
    "## The Data\n",
    "\n"
   ]
  },
  {
   "cell_type": "code",
   "execution_count": 2,
   "metadata": {},
   "outputs": [],
   "source": [
    "df = pd.read_csv('preprocessed_dataset.csv')"
   ]
  },
  {
   "cell_type": "code",
   "execution_count": 3,
   "metadata": {},
   "outputs": [
    {
     "data": {
      "text/html": [
       "<div>\n",
       "<style scoped>\n",
       "    .dataframe tbody tr th:only-of-type {\n",
       "        vertical-align: middle;\n",
       "    }\n",
       "\n",
       "    .dataframe tbody tr th {\n",
       "        vertical-align: top;\n",
       "    }\n",
       "\n",
       "    .dataframe thead th {\n",
       "        text-align: right;\n",
       "    }\n",
       "</style>\n",
       "<table border=\"1\" class=\"dataframe\">\n",
       "  <thead>\n",
       "    <tr style=\"text-align: right;\">\n",
       "      <th></th>\n",
       "      <th>Unnamed: 0</th>\n",
       "      <th>PayloadMass</th>\n",
       "      <th>Flights</th>\n",
       "      <th>GridFins</th>\n",
       "      <th>Reused</th>\n",
       "      <th>Legs</th>\n",
       "      <th>Block</th>\n",
       "      <th>ReusedCount</th>\n",
       "      <th>Class</th>\n",
       "      <th>Orbit_ES-L1</th>\n",
       "      <th>...</th>\n",
       "      <th>Serial_B1048</th>\n",
       "      <th>Serial_B1049</th>\n",
       "      <th>Serial_B1050</th>\n",
       "      <th>Serial_B1051</th>\n",
       "      <th>Serial_B1054</th>\n",
       "      <th>Serial_B1056</th>\n",
       "      <th>Serial_B1058</th>\n",
       "      <th>Serial_B1059</th>\n",
       "      <th>Serial_B1060</th>\n",
       "      <th>Serial_B1062</th>\n",
       "    </tr>\n",
       "  </thead>\n",
       "  <tbody>\n",
       "    <tr>\n",
       "      <th>0</th>\n",
       "      <td>0</td>\n",
       "      <td>6104.959412</td>\n",
       "      <td>1</td>\n",
       "      <td>0</td>\n",
       "      <td>0</td>\n",
       "      <td>0</td>\n",
       "      <td>1.0</td>\n",
       "      <td>0</td>\n",
       "      <td>0</td>\n",
       "      <td>0</td>\n",
       "      <td>...</td>\n",
       "      <td>0</td>\n",
       "      <td>0</td>\n",
       "      <td>0</td>\n",
       "      <td>0</td>\n",
       "      <td>0</td>\n",
       "      <td>0</td>\n",
       "      <td>0</td>\n",
       "      <td>0</td>\n",
       "      <td>0</td>\n",
       "      <td>0</td>\n",
       "    </tr>\n",
       "    <tr>\n",
       "      <th>1</th>\n",
       "      <td>1</td>\n",
       "      <td>525.000000</td>\n",
       "      <td>1</td>\n",
       "      <td>0</td>\n",
       "      <td>0</td>\n",
       "      <td>0</td>\n",
       "      <td>1.0</td>\n",
       "      <td>0</td>\n",
       "      <td>0</td>\n",
       "      <td>0</td>\n",
       "      <td>...</td>\n",
       "      <td>0</td>\n",
       "      <td>0</td>\n",
       "      <td>0</td>\n",
       "      <td>0</td>\n",
       "      <td>0</td>\n",
       "      <td>0</td>\n",
       "      <td>0</td>\n",
       "      <td>0</td>\n",
       "      <td>0</td>\n",
       "      <td>0</td>\n",
       "    </tr>\n",
       "    <tr>\n",
       "      <th>2</th>\n",
       "      <td>2</td>\n",
       "      <td>677.000000</td>\n",
       "      <td>1</td>\n",
       "      <td>0</td>\n",
       "      <td>0</td>\n",
       "      <td>0</td>\n",
       "      <td>1.0</td>\n",
       "      <td>0</td>\n",
       "      <td>0</td>\n",
       "      <td>0</td>\n",
       "      <td>...</td>\n",
       "      <td>0</td>\n",
       "      <td>0</td>\n",
       "      <td>0</td>\n",
       "      <td>0</td>\n",
       "      <td>0</td>\n",
       "      <td>0</td>\n",
       "      <td>0</td>\n",
       "      <td>0</td>\n",
       "      <td>0</td>\n",
       "      <td>0</td>\n",
       "    </tr>\n",
       "    <tr>\n",
       "      <th>3</th>\n",
       "      <td>3</td>\n",
       "      <td>500.000000</td>\n",
       "      <td>1</td>\n",
       "      <td>0</td>\n",
       "      <td>0</td>\n",
       "      <td>0</td>\n",
       "      <td>1.0</td>\n",
       "      <td>0</td>\n",
       "      <td>0</td>\n",
       "      <td>0</td>\n",
       "      <td>...</td>\n",
       "      <td>0</td>\n",
       "      <td>0</td>\n",
       "      <td>0</td>\n",
       "      <td>0</td>\n",
       "      <td>0</td>\n",
       "      <td>0</td>\n",
       "      <td>0</td>\n",
       "      <td>0</td>\n",
       "      <td>0</td>\n",
       "      <td>0</td>\n",
       "    </tr>\n",
       "    <tr>\n",
       "      <th>4</th>\n",
       "      <td>4</td>\n",
       "      <td>3170.000000</td>\n",
       "      <td>1</td>\n",
       "      <td>0</td>\n",
       "      <td>0</td>\n",
       "      <td>0</td>\n",
       "      <td>1.0</td>\n",
       "      <td>0</td>\n",
       "      <td>0</td>\n",
       "      <td>0</td>\n",
       "      <td>...</td>\n",
       "      <td>0</td>\n",
       "      <td>0</td>\n",
       "      <td>0</td>\n",
       "      <td>0</td>\n",
       "      <td>0</td>\n",
       "      <td>0</td>\n",
       "      <td>0</td>\n",
       "      <td>0</td>\n",
       "      <td>0</td>\n",
       "      <td>0</td>\n",
       "    </tr>\n",
       "  </tbody>\n",
       "</table>\n",
       "<p>5 rows × 89 columns</p>\n",
       "</div>"
      ],
      "text/plain": [
       "   Unnamed: 0  PayloadMass  Flights  GridFins  Reused  Legs  Block  \\\n",
       "0           0  6104.959412        1         0       0     0    1.0   \n",
       "1           1   525.000000        1         0       0     0    1.0   \n",
       "2           2   677.000000        1         0       0     0    1.0   \n",
       "3           3   500.000000        1         0       0     0    1.0   \n",
       "4           4  3170.000000        1         0       0     0    1.0   \n",
       "\n",
       "   ReusedCount  Class  Orbit_ES-L1  ...  Serial_B1048  Serial_B1049  \\\n",
       "0            0      0            0  ...             0             0   \n",
       "1            0      0            0  ...             0             0   \n",
       "2            0      0            0  ...             0             0   \n",
       "3            0      0            0  ...             0             0   \n",
       "4            0      0            0  ...             0             0   \n",
       "\n",
       "   Serial_B1050  Serial_B1051  Serial_B1054  Serial_B1056  Serial_B1058  \\\n",
       "0             0             0             0             0             0   \n",
       "1             0             0             0             0             0   \n",
       "2             0             0             0             0             0   \n",
       "3             0             0             0             0             0   \n",
       "4             0             0             0             0             0   \n",
       "\n",
       "   Serial_B1059  Serial_B1060  Serial_B1062  \n",
       "0             0             0             0  \n",
       "1             0             0             0  \n",
       "2             0             0             0  \n",
       "3             0             0             0  \n",
       "4             0             0             0  \n",
       "\n",
       "[5 rows x 89 columns]"
      ]
     },
     "execution_count": 3,
     "metadata": {},
     "output_type": "execute_result"
    }
   ],
   "source": [
    "df.head()"
   ]
  },
  {
   "cell_type": "markdown",
   "metadata": {},
   "source": [
    "# Exploratory Data Analysis\n",
    "\n",
    "Let's begin some exploratory data analysis! We'll start by checking out missing data!\n",
    "\n",
    "## Missing Data\n",
    "\n"
   ]
  },
  {
   "cell_type": "code",
   "execution_count": 4,
   "metadata": {
    "scrolled": true
   },
   "outputs": [
    {
     "name": "stdout",
     "output_type": "stream",
     "text": [
      "<class 'pandas.core.frame.DataFrame'>\n",
      "RangeIndex: 90 entries, 0 to 89\n",
      "Data columns (total 89 columns):\n",
      " #   Column                               Non-Null Count  Dtype  \n",
      "---  ------                               --------------  -----  \n",
      " 0   Unnamed: 0                           90 non-null     int64  \n",
      " 1   PayloadMass                          90 non-null     float64\n",
      " 2   Flights                              90 non-null     int64  \n",
      " 3   GridFins                             90 non-null     int64  \n",
      " 4   Reused                               90 non-null     int64  \n",
      " 5   Legs                                 90 non-null     int64  \n",
      " 6   Block                                90 non-null     float64\n",
      " 7   ReusedCount                          90 non-null     int64  \n",
      " 8   Class                                90 non-null     int64  \n",
      " 9   Orbit_ES-L1                          90 non-null     int64  \n",
      " 10  Orbit_GEO                            90 non-null     int64  \n",
      " 11  Orbit_GTO                            90 non-null     int64  \n",
      " 12  Orbit_HEO                            90 non-null     int64  \n",
      " 13  Orbit_ISS                            90 non-null     int64  \n",
      " 14  Orbit_LEO                            90 non-null     int64  \n",
      " 15  Orbit_MEO                            90 non-null     int64  \n",
      " 16  Orbit_PO                             90 non-null     int64  \n",
      " 17  Orbit_SO                             90 non-null     int64  \n",
      " 18  Orbit_SSO                            90 non-null     int64  \n",
      " 19  Orbit_VLEO                           90 non-null     int64  \n",
      " 20  LaunchSite_CCAFS SLC 40              90 non-null     int64  \n",
      " 21  LaunchSite_KSC LC 39A                90 non-null     int64  \n",
      " 22  LaunchSite_VAFB SLC 4E               90 non-null     int64  \n",
      " 23  Outcome_False ASDS                   90 non-null     int64  \n",
      " 24  Outcome_False Ocean                  90 non-null     int64  \n",
      " 25  Outcome_False RTLS                   90 non-null     int64  \n",
      " 26  Outcome_None ASDS                    90 non-null     int64  \n",
      " 27  Outcome_None None                    90 non-null     int64  \n",
      " 28  Outcome_True ASDS                    90 non-null     int64  \n",
      " 29  Outcome_True Ocean                   90 non-null     int64  \n",
      " 30  Outcome_True RTLS                    90 non-null     int64  \n",
      " 31  LandingPad_5e9e3032383ecb267a34e7c7  90 non-null     int64  \n",
      " 32  LandingPad_5e9e3032383ecb554034e7c9  90 non-null     int64  \n",
      " 33  LandingPad_5e9e3032383ecb6bb234e7ca  90 non-null     int64  \n",
      " 34  LandingPad_5e9e3032383ecb761634e7cb  90 non-null     int64  \n",
      " 35  LandingPad_5e9e3033383ecbb9e534e7cc  90 non-null     int64  \n",
      " 36  Serial_B0003                         90 non-null     int64  \n",
      " 37  Serial_B0005                         90 non-null     int64  \n",
      " 38  Serial_B0007                         90 non-null     int64  \n",
      " 39  Serial_B1003                         90 non-null     int64  \n",
      " 40  Serial_B1004                         90 non-null     int64  \n",
      " 41  Serial_B1005                         90 non-null     int64  \n",
      " 42  Serial_B1006                         90 non-null     int64  \n",
      " 43  Serial_B1007                         90 non-null     int64  \n",
      " 44  Serial_B1008                         90 non-null     int64  \n",
      " 45  Serial_B1010                         90 non-null     int64  \n",
      " 46  Serial_B1011                         90 non-null     int64  \n",
      " 47  Serial_B1012                         90 non-null     int64  \n",
      " 48  Serial_B1013                         90 non-null     int64  \n",
      " 49  Serial_B1015                         90 non-null     int64  \n",
      " 50  Serial_B1016                         90 non-null     int64  \n",
      " 51  Serial_B1017                         90 non-null     int64  \n",
      " 52  Serial_B1018                         90 non-null     int64  \n",
      " 53  Serial_B1019                         90 non-null     int64  \n",
      " 54  Serial_B1020                         90 non-null     int64  \n",
      " 55  Serial_B1021                         90 non-null     int64  \n",
      " 56  Serial_B1022                         90 non-null     int64  \n",
      " 57  Serial_B1023                         90 non-null     int64  \n",
      " 58  Serial_B1025                         90 non-null     int64  \n",
      " 59  Serial_B1026                         90 non-null     int64  \n",
      " 60  Serial_B1028                         90 non-null     int64  \n",
      " 61  Serial_B1029                         90 non-null     int64  \n",
      " 62  Serial_B1030                         90 non-null     int64  \n",
      " 63  Serial_B1031                         90 non-null     int64  \n",
      " 64  Serial_B1032                         90 non-null     int64  \n",
      " 65  Serial_B1034                         90 non-null     int64  \n",
      " 66  Serial_B1035                         90 non-null     int64  \n",
      " 67  Serial_B1036                         90 non-null     int64  \n",
      " 68  Serial_B1037                         90 non-null     int64  \n",
      " 69  Serial_B1038                         90 non-null     int64  \n",
      " 70  Serial_B1039                         90 non-null     int64  \n",
      " 71  Serial_B1040                         90 non-null     int64  \n",
      " 72  Serial_B1041                         90 non-null     int64  \n",
      " 73  Serial_B1042                         90 non-null     int64  \n",
      " 74  Serial_B1043                         90 non-null     int64  \n",
      " 75  Serial_B1044                         90 non-null     int64  \n",
      " 76  Serial_B1045                         90 non-null     int64  \n",
      " 77  Serial_B1046                         90 non-null     int64  \n",
      " 78  Serial_B1047                         90 non-null     int64  \n",
      " 79  Serial_B1048                         90 non-null     int64  \n",
      " 80  Serial_B1049                         90 non-null     int64  \n",
      " 81  Serial_B1050                         90 non-null     int64  \n",
      " 82  Serial_B1051                         90 non-null     int64  \n",
      " 83  Serial_B1054                         90 non-null     int64  \n",
      " 84  Serial_B1056                         90 non-null     int64  \n",
      " 85  Serial_B1058                         90 non-null     int64  \n",
      " 86  Serial_B1059                         90 non-null     int64  \n",
      " 87  Serial_B1060                         90 non-null     int64  \n",
      " 88  Serial_B1062                         90 non-null     int64  \n",
      "dtypes: float64(2), int64(87)\n",
      "memory usage: 62.7 KB\n"
     ]
    }
   ],
   "source": [
    "df.info()"
   ]
  },
  {
   "cell_type": "markdown",
   "metadata": {},
   "source": [
    "# Define X , y"
   ]
  },
  {
   "cell_type": "code",
   "execution_count": 5,
   "metadata": {},
   "outputs": [],
   "source": [
    "X=df.drop('Class',axis=1)\n",
    "y=df['Class']"
   ]
  },
  {
   "cell_type": "markdown",
   "metadata": {},
   "source": [
    "Great! Our data is ready for our model!\n",
    "\n",
    "# Building a k nearest neighbor\n",
    "\n",
    "Let's start by splitting our data into a training set and test set.\n",
    "## Train Test Split"
   ]
  },
  {
   "cell_type": "code",
   "execution_count": 6,
   "metadata": {},
   "outputs": [],
   "source": [
    "from sklearn.model_selection import train_test_split"
   ]
  },
  {
   "cell_type": "code",
   "execution_count": 7,
   "metadata": {},
   "outputs": [],
   "source": [
    "X_train, X_test, y_train, y_test = train_test_split(X, \n",
    "                                                    y, test_size=0.20, \n",
    "                                                    random_state=101)"
   ]
  },
  {
   "cell_type": "markdown",
   "metadata": {},
   "source": [
    "## Training and Predicting"
   ]
  },
  {
   "cell_type": "code",
   "execution_count": 8,
   "metadata": {},
   "outputs": [],
   "source": [
    "# K Nearest Neighbors classification algorithm\n",
    "from sklearn.neighbors import KNeighborsClassifier"
   ]
  },
  {
   "cell_type": "code",
   "execution_count": 49,
   "metadata": {},
   "outputs": [],
   "source": [
    "knn = KNeighborsClassifier(n_neighbors=10)"
   ]
  },
  {
   "cell_type": "code",
   "execution_count": 50,
   "metadata": {},
   "outputs": [
    {
     "data": {
      "text/plain": [
       "KNeighborsClassifier(n_neighbors=10)"
      ]
     },
     "execution_count": 50,
     "metadata": {},
     "output_type": "execute_result"
    }
   ],
   "source": [
    "knn.fit(X_train,y_train)"
   ]
  },
  {
   "cell_type": "code",
   "execution_count": 51,
   "metadata": {},
   "outputs": [],
   "source": [
    "predictions = knn.predict(X_test)"
   ]
  },
  {
   "cell_type": "code",
   "execution_count": 52,
   "metadata": {
    "scrolled": true
   },
   "outputs": [
    {
     "data": {
      "text/plain": [
       "array([0, 1, 1, 0, 1, 0, 1, 1, 1, 1, 0, 1, 1, 1, 1, 1, 0, 1], dtype=int64)"
      ]
     },
     "execution_count": 52,
     "metadata": {},
     "output_type": "execute_result"
    }
   ],
   "source": [
    "predictions"
   ]
  },
  {
   "cell_type": "code",
   "execution_count": 43,
   "metadata": {
    "scrolled": true
   },
   "outputs": [
    {
     "data": {
      "text/plain": [
       "50    0\n",
       "6     1\n",
       "51    0\n",
       "54    1\n",
       "53    1\n",
       "69    1\n",
       "32    1\n",
       "31    1\n",
       "21    1\n",
       "88    1\n",
       "43    1\n",
       "47    0\n",
       "3     0\n",
       "1     0\n",
       "74    0\n",
       "16    1\n",
       "45    0\n",
       "25    1\n",
       "Name: Class, dtype: int64"
      ]
     },
     "execution_count": 43,
     "metadata": {},
     "output_type": "execute_result"
    }
   ],
   "source": [
    "y_test"
   ]
  },
  {
   "cell_type": "markdown",
   "metadata": {},
   "source": [
    "Let's move on to evaluate our model!"
   ]
  },
  {
   "cell_type": "markdown",
   "metadata": {},
   "source": [
    "## Evaluation"
   ]
  },
  {
   "cell_type": "markdown",
   "metadata": {},
   "source": [
    "Let's bring Confusion Matrix!"
   ]
  },
  {
   "cell_type": "code",
   "execution_count": 44,
   "metadata": {},
   "outputs": [],
   "source": [
    "from sklearn.metrics import confusion_matrix"
   ]
  },
  {
   "cell_type": "code",
   "execution_count": 45,
   "metadata": {
    "scrolled": true
   },
   "outputs": [
    {
     "data": {
      "text/plain": [
       "array([[2, 5],\n",
       "       [2, 9]], dtype=int64)"
      ]
     },
     "execution_count": 45,
     "metadata": {},
     "output_type": "execute_result"
    }
   ],
   "source": [
    "confusion_matrix(y_test,predictions)"
   ]
  },
  {
   "cell_type": "markdown",
   "metadata": {},
   "source": [
    "We can check precision,recall,f1-score using classification report!"
   ]
  },
  {
   "cell_type": "code",
   "execution_count": 46,
   "metadata": {},
   "outputs": [],
   "source": [
    "from sklearn.metrics import accuracy_score"
   ]
  },
  {
   "cell_type": "code",
   "execution_count": 47,
   "metadata": {},
   "outputs": [
    {
     "data": {
      "text/plain": [
       "11"
      ]
     },
     "execution_count": 47,
     "metadata": {},
     "output_type": "execute_result"
    }
   ],
   "source": [
    "accuracy_score(y_test,predictions, normalize=False)"
   ]
  },
  {
   "cell_type": "code",
   "execution_count": 48,
   "metadata": {},
   "outputs": [
    {
     "data": {
      "text/plain": [
       "0.6111111111111112"
      ]
     },
     "execution_count": 48,
     "metadata": {},
     "output_type": "execute_result"
    }
   ],
   "source": [
    "accuracy_score(y_test,predictions, normalize=True)"
   ]
  },
  {
   "cell_type": "code",
   "execution_count": 19,
   "metadata": {},
   "outputs": [],
   "source": [
    "from sklearn.metrics import classification_report"
   ]
  },
  {
   "cell_type": "code",
   "execution_count": 20,
   "metadata": {},
   "outputs": [
    {
     "name": "stdout",
     "output_type": "stream",
     "text": [
      "              precision    recall  f1-score   support\n",
      "\n",
      "           0       0.40      0.29      0.33         7\n",
      "           1       0.62      0.73      0.67        11\n",
      "\n",
      "    accuracy                           0.56        18\n",
      "   macro avg       0.51      0.51      0.50        18\n",
      "weighted avg       0.53      0.56      0.54        18\n",
      "\n"
     ]
    }
   ],
   "source": [
    "print(classification_report(y_test,predictions))"
   ]
  },
  {
   "cell_type": "markdown",
   "metadata": {},
   "source": [
    "\n",
    "## Grid Search!"
   ]
  },
  {
   "cell_type": "code",
   "execution_count": 21,
   "metadata": {},
   "outputs": [],
   "source": [
    "knn_1 = KNeighborsClassifier()"
   ]
  },
  {
   "cell_type": "code",
   "execution_count": 22,
   "metadata": {},
   "outputs": [],
   "source": [
    "# Allows us to test parameters of classification algorithms and find the best one\n",
    "from sklearn.model_selection import GridSearchCV"
   ]
  },
  {
   "cell_type": "code",
   "execution_count": 23,
   "metadata": {},
   "outputs": [],
   "source": [
    "parameters = {'n_neighbors': [1, 2, 3, 4, 5, 6, 7, 8, 9, 10]}"
   ]
  },
  {
   "cell_type": "code",
   "execution_count": 24,
   "metadata": {},
   "outputs": [
    {
     "data": {
      "text/plain": [
       "GridSearchCV(estimator=KNeighborsClassifier(),\n",
       "             param_grid={'n_neighbors': [1, 2, 3, 4, 5, 6, 7, 8, 9, 10]})"
      ]
     },
     "execution_count": 24,
     "metadata": {},
     "output_type": "execute_result"
    }
   ],
   "source": [
    "knn_cv = GridSearchCV(knn_1, parameters)\n",
    "knn_cv.fit(X_train, y_train)"
   ]
  },
  {
   "cell_type": "code",
   "execution_count": 32,
   "metadata": {},
   "outputs": [
    {
     "name": "stdout",
     "output_type": "stream",
     "text": [
      "tuned hpyerparameters :(best parameters)  {'n_neighbors': 9}\n"
     ]
    }
   ],
   "source": [
    "print(\"tuned hpyerparameters :(best parameters) \",knn_cv.best_params_)"
   ]
  },
  {
   "cell_type": "code",
   "execution_count": 33,
   "metadata": {},
   "outputs": [],
   "source": [
    "knn_1 = KNeighborsClassifier(n_neighbors=9)"
   ]
  },
  {
   "cell_type": "code",
   "execution_count": 34,
   "metadata": {},
   "outputs": [
    {
     "data": {
      "text/plain": [
       "KNeighborsClassifier(n_neighbors=9)"
      ]
     },
     "execution_count": 34,
     "metadata": {},
     "output_type": "execute_result"
    }
   ],
   "source": [
    "knn_1.fit(X_train,y_train)"
   ]
  },
  {
   "cell_type": "code",
   "execution_count": 35,
   "metadata": {},
   "outputs": [],
   "source": [
    "predictions_1 = knn_1.predict(X_test)"
   ]
  },
  {
   "cell_type": "code",
   "execution_count": 36,
   "metadata": {},
   "outputs": [
    {
     "data": {
      "text/plain": [
       "array([[2, 5],\n",
       "       [2, 9]], dtype=int64)"
      ]
     },
     "execution_count": 36,
     "metadata": {},
     "output_type": "execute_result"
    }
   ],
   "source": [
    "confusion_matrix(y_test,predictions_1)"
   ]
  },
  {
   "cell_type": "code",
   "execution_count": 37,
   "metadata": {},
   "outputs": [
    {
     "data": {
      "text/plain": [
       "11"
      ]
     },
     "execution_count": 37,
     "metadata": {},
     "output_type": "execute_result"
    }
   ],
   "source": [
    "accuracy_score(y_test,predictions_1, normalize=False)"
   ]
  },
  {
   "cell_type": "code",
   "execution_count": 38,
   "metadata": {},
   "outputs": [
    {
     "data": {
      "text/plain": [
       "0.6111111111111112"
      ]
     },
     "execution_count": 38,
     "metadata": {},
     "output_type": "execute_result"
    }
   ],
   "source": [
    "accuracy_score(y_test,predictions_1, normalize=True)"
   ]
  },
  {
   "cell_type": "markdown",
   "metadata": {},
   "source": [
    "# Good Job!"
   ]
  }
 ],
 "metadata": {
  "kernelspec": {
   "display_name": "Python 3 (ipykernel)",
   "language": "python",
   "name": "python3"
  },
  "language_info": {
   "codemirror_mode": {
    "name": "ipython",
    "version": 3
   },
   "file_extension": ".py",
   "mimetype": "text/x-python",
   "name": "python",
   "nbconvert_exporter": "python",
   "pygments_lexer": "ipython3",
   "version": "3.8.3"
  }
 },
 "nbformat": 4,
 "nbformat_minor": 1
}
