{
 "cells": [
  {
   "cell_type": "code",
   "execution_count": 1,
   "id": "2c109641",
   "metadata": {},
   "outputs": [],
   "source": [
    "a=4"
   ]
  },
  {
   "cell_type": "code",
   "execution_count": 2,
   "id": "d7ff378c",
   "metadata": {},
   "outputs": [
    {
     "name": "stdout",
     "output_type": "stream",
     "text": [
      "4\n"
     ]
    }
   ],
   "source": [
    "print (a)"
   ]
  },
  {
   "cell_type": "code",
   "execution_count": 3,
   "id": "ef36e188",
   "metadata": {},
   "outputs": [
    {
     "data": {
      "text/plain": [
       "2"
      ]
     },
     "execution_count": 3,
     "metadata": {},
     "output_type": "execute_result"
    }
   ],
   "source": [
    "1+1"
   ]
  },
  {
   "cell_type": "code",
   "execution_count": 4,
   "id": "db6b1476",
   "metadata": {},
   "outputs": [
    {
     "data": {
      "text/plain": [
       "8.4"
      ]
     },
     "execution_count": 4,
     "metadata": {},
     "output_type": "execute_result"
    }
   ],
   "source": [
    "42/5"
   ]
  },
  {
   "cell_type": "code",
   "execution_count": 5,
   "id": "5870dcfa",
   "metadata": {},
   "outputs": [
    {
     "data": {
      "text/plain": [
       "0"
      ]
     },
     "execution_count": 5,
     "metadata": {},
     "output_type": "execute_result"
    }
   ],
   "source": [
    "42%2"
   ]
  },
  {
   "cell_type": "code",
   "execution_count": 6,
   "id": "d657eff4",
   "metadata": {},
   "outputs": [
    {
     "data": {
      "text/plain": [
       "1"
      ]
     },
     "execution_count": 6,
     "metadata": {},
     "output_type": "execute_result"
    }
   ],
   "source": [
    "43%2"
   ]
  },
  {
   "cell_type": "code",
   "execution_count": 7,
   "id": "3ea04f91",
   "metadata": {},
   "outputs": [
    {
     "data": {
      "text/plain": [
       "16"
      ]
     },
     "execution_count": 7,
     "metadata": {},
     "output_type": "execute_result"
    }
   ],
   "source": [
    "2**4"
   ]
  },
  {
   "cell_type": "code",
   "execution_count": 8,
   "id": "91c59259",
   "metadata": {},
   "outputs": [],
   "source": [
    "a=30"
   ]
  },
  {
   "cell_type": "code",
   "execution_count": 9,
   "id": "4dc81aa0",
   "metadata": {},
   "outputs": [
    {
     "data": {
      "text/plain": [
       "30"
      ]
     },
     "execution_count": 9,
     "metadata": {},
     "output_type": "execute_result"
    }
   ],
   "source": [
    "a"
   ]
  },
  {
   "cell_type": "code",
   "execution_count": 10,
   "id": "0ef7cee7",
   "metadata": {},
   "outputs": [
    {
     "data": {
      "text/plain": [
       "1"
      ]
     },
     "execution_count": 10,
     "metadata": {},
     "output_type": "execute_result"
    }
   ],
   "source": [
    "5%2"
   ]
  },
  {
   "cell_type": "code",
   "execution_count": 11,
   "id": "5627f296",
   "metadata": {},
   "outputs": [
    {
     "data": {
      "text/plain": [
       "50"
      ]
     },
     "execution_count": 11,
     "metadata": {},
     "output_type": "execute_result"
    }
   ],
   "source": [
    "(2+3)*(5+5)"
   ]
  },
  {
   "cell_type": "code",
   "execution_count": 12,
   "id": "6e34161a",
   "metadata": {},
   "outputs": [],
   "source": [
    "x=2"
   ]
  },
  {
   "cell_type": "code",
   "execution_count": 13,
   "id": "07913165",
   "metadata": {},
   "outputs": [],
   "source": [
    "y=3"
   ]
  },
  {
   "cell_type": "code",
   "execution_count": 15,
   "id": "16d451f9",
   "metadata": {},
   "outputs": [],
   "source": [
    "z=x*y"
   ]
  },
  {
   "cell_type": "code",
   "execution_count": 16,
   "id": "8b19479b",
   "metadata": {},
   "outputs": [
    {
     "data": {
      "text/plain": [
       "6"
      ]
     },
     "execution_count": 16,
     "metadata": {},
     "output_type": "execute_result"
    }
   ],
   "source": [
    "z"
   ]
  },
  {
   "cell_type": "code",
   "execution_count": 17,
   "id": "f762bca9",
   "metadata": {},
   "outputs": [],
   "source": [
    "tw='Ananas'"
   ]
  },
  {
   "cell_type": "code",
   "execution_count": 18,
   "id": "704cab84",
   "metadata": {},
   "outputs": [
    {
     "data": {
      "text/plain": [
       "'Ananas'"
      ]
     },
     "execution_count": 18,
     "metadata": {},
     "output_type": "execute_result"
    }
   ],
   "source": [
    "tw"
   ]
  },
  {
   "cell_type": "code",
   "execution_count": 19,
   "id": "00395c24",
   "metadata": {},
   "outputs": [
    {
     "data": {
      "text/plain": [
       "'n'"
      ]
     },
     "execution_count": 19,
     "metadata": {},
     "output_type": "execute_result"
    }
   ],
   "source": [
    "tw[3]"
   ]
  },
  {
   "cell_type": "code",
   "execution_count": 21,
   "id": "58401add",
   "metadata": {},
   "outputs": [
    {
     "data": {
      "text/plain": [
       "'nas'"
      ]
     },
     "execution_count": 21,
     "metadata": {},
     "output_type": "execute_result"
    }
   ],
   "source": [
    "tw[3:]"
   ]
  },
  {
   "cell_type": "code",
   "execution_count": 22,
   "id": "1689929e",
   "metadata": {},
   "outputs": [
    {
     "data": {
      "text/plain": [
       "'Ana'"
      ]
     },
     "execution_count": 22,
     "metadata": {},
     "output_type": "execute_result"
    }
   ],
   "source": [
    "tw[:3]"
   ]
  },
  {
   "cell_type": "code",
   "execution_count": 23,
   "id": "8481dd40",
   "metadata": {},
   "outputs": [
    {
     "data": {
      "text/plain": [
       "'na'"
      ]
     },
     "execution_count": 23,
     "metadata": {},
     "output_type": "execute_result"
    }
   ],
   "source": [
    "tw[3:5]"
   ]
  },
  {
   "cell_type": "code",
   "execution_count": 25,
   "id": "978b7f17",
   "metadata": {},
   "outputs": [
    {
     "data": {
      "text/plain": [
       "'Anan'"
      ]
     },
     "execution_count": 25,
     "metadata": {},
     "output_type": "execute_result"
    }
   ],
   "source": [
    "tw[:-2]"
   ]
  },
  {
   "cell_type": "code",
   "execution_count": 26,
   "id": "e2ebd6cc",
   "metadata": {},
   "outputs": [
    {
     "data": {
      "text/plain": [
       "'as'"
      ]
     },
     "execution_count": 26,
     "metadata": {},
     "output_type": "execute_result"
    }
   ],
   "source": [
    "tw[2]+tw[5]"
   ]
  },
  {
   "cell_type": "code",
   "execution_count": 27,
   "id": "f60c8c73",
   "metadata": {},
   "outputs": [],
   "source": [
    "age=32"
   ]
  },
  {
   "cell_type": "code",
   "execution_count": 28,
   "id": "f9635619",
   "metadata": {},
   "outputs": [],
   "source": [
    "name='Omid Mohammadi'"
   ]
  },
  {
   "cell_type": "code",
   "execution_count": 29,
   "id": "b5683746",
   "metadata": {},
   "outputs": [],
   "source": [
    "Gender='Male'"
   ]
  },
  {
   "cell_type": "code",
   "execution_count": 31,
   "id": "a7ac7c13",
   "metadata": {},
   "outputs": [],
   "source": [
    "formatted_string ='my name is: {} ,my age is: {},Gender: {}'.format(name,age,Gender)"
   ]
  },
  {
   "cell_type": "code",
   "execution_count": 32,
   "id": "429f7565",
   "metadata": {},
   "outputs": [
    {
     "name": "stdout",
     "output_type": "stream",
     "text": [
      "my name is: Omid Mohammadi ,my age is: 32,Gender: Male\n"
     ]
    }
   ],
   "source": [
    "print(formatted_string )"
   ]
  },
  {
   "cell_type": "code",
   "execution_count": 34,
   "id": "5546f70a",
   "metadata": {},
   "outputs": [],
   "source": [
    "lst=[1,3,8]"
   ]
  },
  {
   "cell_type": "code",
   "execution_count": 35,
   "id": "329956ca",
   "metadata": {},
   "outputs": [
    {
     "data": {
      "text/plain": [
       "3"
      ]
     },
     "execution_count": 35,
     "metadata": {},
     "output_type": "execute_result"
    }
   ],
   "source": [
    "len(lst)"
   ]
  },
  {
   "cell_type": "code",
   "execution_count": 36,
   "id": "b00224f8",
   "metadata": {},
   "outputs": [],
   "source": [
    "lst.append(17)"
   ]
  },
  {
   "cell_type": "code",
   "execution_count": 37,
   "id": "28cf2f18",
   "metadata": {},
   "outputs": [
    {
     "data": {
      "text/plain": [
       "4"
      ]
     },
     "execution_count": 37,
     "metadata": {},
     "output_type": "execute_result"
    }
   ],
   "source": [
    "len(lst)"
   ]
  },
  {
   "cell_type": "code",
   "execution_count": 40,
   "id": "6f1345c1",
   "metadata": {},
   "outputs": [
    {
     "data": {
      "text/plain": [
       "17"
      ]
     },
     "execution_count": 40,
     "metadata": {},
     "output_type": "execute_result"
    }
   ],
   "source": [
    "lst[3]"
   ]
  },
  {
   "cell_type": "code",
   "execution_count": 41,
   "id": "052a4140",
   "metadata": {},
   "outputs": [
    {
     "data": {
      "text/plain": [
       "[1, 3, 8, 17]"
      ]
     },
     "execution_count": 41,
     "metadata": {},
     "output_type": "execute_result"
    }
   ],
   "source": [
    "lst"
   ]
  },
  {
   "cell_type": "code",
   "execution_count": 42,
   "id": "7e53e3fb",
   "metadata": {},
   "outputs": [
    {
     "data": {
      "text/plain": [
       "['hi', 1, [1, 2]]"
      ]
     },
     "execution_count": 42,
     "metadata": {},
     "output_type": "execute_result"
    }
   ],
   "source": [
    "['hi',1,[1,2]]"
   ]
  },
  {
   "cell_type": "code",
   "execution_count": 46,
   "id": "033a9c51",
   "metadata": {},
   "outputs": [],
   "source": [
    "my_list=['hi',1,[1,2]]"
   ]
  },
  {
   "cell_type": "code",
   "execution_count": 47,
   "id": "b1c6438b",
   "metadata": {},
   "outputs": [],
   "source": [
    "my_list.append('d')"
   ]
  },
  {
   "cell_type": "code",
   "execution_count": 48,
   "id": "347462c3",
   "metadata": {},
   "outputs": [
    {
     "data": {
      "text/plain": [
       "[1, 3, 8, 17]"
      ]
     },
     "execution_count": 48,
     "metadata": {},
     "output_type": "execute_result"
    }
   ],
   "source": [
    "lst\n"
   ]
  },
  {
   "cell_type": "code",
   "execution_count": 49,
   "id": "29a6a12d",
   "metadata": {},
   "outputs": [
    {
     "data": {
      "text/plain": [
       "4"
      ]
     },
     "execution_count": 49,
     "metadata": {},
     "output_type": "execute_result"
    }
   ],
   "source": [
    "len(lst)"
   ]
  },
  {
   "cell_type": "code",
   "execution_count": 50,
   "id": "a4f1d7e0",
   "metadata": {},
   "outputs": [
    {
     "data": {
      "text/plain": [
       "['hi']"
      ]
     },
     "execution_count": 50,
     "metadata": {},
     "output_type": "execute_result"
    }
   ],
   "source": [
    "my_list[:1]"
   ]
  },
  {
   "cell_type": "code",
   "execution_count": 51,
   "id": "871a2451",
   "metadata": {},
   "outputs": [
    {
     "data": {
      "text/plain": [
       "1"
      ]
     },
     "execution_count": 51,
     "metadata": {},
     "output_type": "execute_result"
    }
   ],
   "source": [
    "my_list[1]"
   ]
  },
  {
   "cell_type": "code",
   "execution_count": 52,
   "id": "c0ef3236",
   "metadata": {},
   "outputs": [
    {
     "data": {
      "text/plain": [
       "['hi', 1, [1, 2], 'd']"
      ]
     },
     "execution_count": 52,
     "metadata": {},
     "output_type": "execute_result"
    }
   ],
   "source": [
    "my_list\n"
   ]
  },
  {
   "cell_type": "code",
   "execution_count": 53,
   "id": "4ba7fdd1",
   "metadata": {},
   "outputs": [],
   "source": [
    "nest = [1,2,3,[4,5,['target']]]"
   ]
  },
  {
   "cell_type": "code",
   "execution_count": 54,
   "id": "abdc0454",
   "metadata": {},
   "outputs": [
    {
     "data": {
      "text/plain": [
       "[1, 2, 3, [4, 5, ['target']]]"
      ]
     },
     "execution_count": 54,
     "metadata": {},
     "output_type": "execute_result"
    }
   ],
   "source": [
    "nest"
   ]
  },
  {
   "cell_type": "code",
   "execution_count": 55,
   "id": "12fab9db",
   "metadata": {},
   "outputs": [
    {
     "data": {
      "text/plain": [
       "[4, 5, ['target']]"
      ]
     },
     "execution_count": 55,
     "metadata": {},
     "output_type": "execute_result"
    }
   ],
   "source": [
    "nest[3]"
   ]
  },
  {
   "cell_type": "code",
   "execution_count": 56,
   "id": "c59e772b",
   "metadata": {},
   "outputs": [],
   "source": [
    "list_new=[2,4,6,8,10]\n"
   ]
  },
  {
   "cell_type": "code",
   "execution_count": 57,
   "id": "ce2c2651",
   "metadata": {},
   "outputs": [
    {
     "data": {
      "text/plain": [
       "['new', 4, 6, 8, 10]"
      ]
     },
     "execution_count": 57,
     "metadata": {},
     "output_type": "execute_result"
    }
   ],
   "source": [
    "list_new[0]='new'\n",
    "list_new"
   ]
  },
  {
   "cell_type": "code",
   "execution_count": 58,
   "id": "6c845a88",
   "metadata": {},
   "outputs": [
    {
     "data": {
      "text/plain": [
       "['new', 4, 6, 'orange', 8, 10]"
      ]
     },
     "execution_count": 58,
     "metadata": {},
     "output_type": "execute_result"
    }
   ],
   "source": [
    "list_new.insert(3, \"orange\")\n",
    "list_new"
   ]
  },
  {
   "cell_type": "code",
   "execution_count": 59,
   "id": "e39f6ab1",
   "metadata": {},
   "outputs": [
    {
     "data": {
      "text/plain": [
       "['new', 4, 6, 'orange', 'هندونه', 8, 10]"
      ]
     },
     "execution_count": 59,
     "metadata": {},
     "output_type": "execute_result"
    }
   ],
   "source": [
    "list_new.insert(4, \"هندونه\")\n",
    "list_new"
   ]
  },
  {
   "cell_type": "code",
   "execution_count": 60,
   "id": "756e9505",
   "metadata": {},
   "outputs": [],
   "source": [
    "list_1=[1,2,3,4,5,6]\n"
   ]
  },
  {
   "cell_type": "code",
   "execution_count": 61,
   "id": "8053bd7e",
   "metadata": {},
   "outputs": [],
   "source": [
    "string='dataroadmap'\n"
   ]
  },
  {
   "cell_type": "code",
   "execution_count": 62,
   "id": "32351824",
   "metadata": {},
   "outputs": [
    {
     "data": {
      "text/plain": [
       "[4, 5, ['target']]"
      ]
     },
     "execution_count": 62,
     "metadata": {},
     "output_type": "execute_result"
    }
   ],
   "source": [
    "nest[3]\n"
   ]
  },
  {
   "cell_type": "code",
   "execution_count": 63,
   "id": "54df5703",
   "metadata": {},
   "outputs": [
    {
     "data": {
      "text/plain": [
       "'r'"
      ]
     },
     "execution_count": 63,
     "metadata": {},
     "output_type": "execute_result"
    }
   ],
   "source": [
    "nest[3][2][0][2]\n"
   ]
  },
  {
   "cell_type": "code",
   "execution_count": 64,
   "id": "4b4f6c63",
   "metadata": {},
   "outputs": [
    {
     "data": {
      "text/plain": [
       "['target']"
      ]
     },
     "execution_count": 64,
     "metadata": {},
     "output_type": "execute_result"
    }
   ],
   "source": [
    "nest[3][2]\n"
   ]
  },
  {
   "cell_type": "code",
   "execution_count": 65,
   "id": "e461f29c",
   "metadata": {},
   "outputs": [
    {
     "data": {
      "text/plain": [
       "'target'"
      ]
     },
     "execution_count": 65,
     "metadata": {},
     "output_type": "execute_result"
    }
   ],
   "source": [
    "nest[3][2][0]\n"
   ]
  },
  {
   "cell_type": "code",
   "execution_count": 67,
   "id": "5808aba4",
   "metadata": {},
   "outputs": [
    {
     "data": {
      "text/plain": [
       "4"
      ]
     },
     "execution_count": 67,
     "metadata": {},
     "output_type": "execute_result"
    }
   ],
   "source": [
    "nest[3][0]\n"
   ]
  },
  {
   "cell_type": "code",
   "execution_count": 71,
   "id": "63a8059b",
   "metadata": {},
   "outputs": [
    {
     "data": {
      "text/plain": [
       "5"
      ]
     },
     "execution_count": 71,
     "metadata": {},
     "output_type": "execute_result"
    }
   ],
   "source": [
    "nest[3][1]"
   ]
  },
  {
   "cell_type": "code",
   "execution_count": 74,
   "id": "528cd835",
   "metadata": {},
   "outputs": [
    {
     "data": {
      "text/plain": [
       "[1, 2, 3, [4, 5, ['target']]]"
      ]
     },
     "execution_count": 74,
     "metadata": {},
     "output_type": "execute_result"
    }
   ],
   "source": [
    "nest\n"
   ]
  },
  {
   "cell_type": "code",
   "execution_count": 79,
   "id": "daf98519",
   "metadata": {},
   "outputs": [
    {
     "data": {
      "text/plain": [
       "'target'"
      ]
     },
     "execution_count": 79,
     "metadata": {},
     "output_type": "execute_result"
    }
   ],
   "source": [
    "nest[3][2][0]"
   ]
  },
  {
   "cell_type": "code",
   "execution_count": 80,
   "id": "b7c6d4e8",
   "metadata": {},
   "outputs": [
    {
     "data": {
      "text/plain": [
       "'t'"
      ]
     },
     "execution_count": 80,
     "metadata": {},
     "output_type": "execute_result"
    }
   ],
   "source": [
    "nest[3][2][0][5]"
   ]
  },
  {
   "cell_type": "code",
   "execution_count": null,
   "id": "dbf26d9d",
   "metadata": {},
   "outputs": [],
   "source": []
  }
 ],
 "metadata": {
  "kernelspec": {
   "display_name": "Python 3 (ipykernel)",
   "language": "python",
   "name": "python3"
  },
  "language_info": {
   "codemirror_mode": {
    "name": "ipython",
    "version": 3
   },
   "file_extension": ".py",
   "mimetype": "text/x-python",
   "name": "python",
   "nbconvert_exporter": "python",
   "pygments_lexer": "ipython3",
   "version": "3.11.3"
  }
 },
 "nbformat": 4,
 "nbformat_minor": 5
}
